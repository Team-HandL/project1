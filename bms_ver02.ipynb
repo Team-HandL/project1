{
 "cells": [
  {
   "cell_type": "markdown",
   "metadata": {},
   "source": [
    "# 배민스토어 데이터 분석\n",
    "- 기준일시 : 8월 25일(금) 오후 4시\n",
    "- 위치 : \"강남역\"\n",
    "- 상세 : \"지금 인기있는 상품\" 189개 중 69개 수집"
   ]
  },
  {
   "cell_type": "code",
   "execution_count": 1,
   "metadata": {},
   "outputs": [],
   "source": [
    "import pandas as pd\n",
    "import numpy as np\n",
    "import seaborn as sns\n",
    "import matplotlib.pyplot as plt\n",
    "from matplotlib import rc "
   ]
  },
  {
   "cell_type": "code",
   "execution_count": 2,
   "metadata": {},
   "outputs": [],
   "source": [
    "# 1. 배민스토어에서 직접 수집하여 가공한 데이터입니다. \n",
    "# 과일, 건강기능식품, 육류, 반찬/밀키트, 꽃, 장난감, 화장품, 과자, 음료, 케이크, 그릇, 전자기기, 반려동물용품\n",
    "bms_rawdata = \"\"\"\n",
    "육류, 28800, 35, 20\n",
    "육류, 19900, 29, 12\n",
    "꽃, 50000, 24, 9\n",
    "과일, 19500, 34, \n",
    "케이크, 23000, 26, 14\n",
    "과자, 1700, 50, \n",
    "꽃, 10000, 35, 25\n",
    "과자, 1700, 50, \n",
    "꽃, 80000, 28, 10\n",
    "꽃, 85000, 33, \n",
    "육류, 11000, , \n",
    "전자기기, 168000, 180, \n",
    "음료, 3050, 50, \n",
    "꽃, 12000, 29, \n",
    "전자기기, 359000, 150, 15\n",
    "그릇, 30000, 31, 13\n",
    "반찬/밀키트, 13900, 34, 17\n",
    "장난감, 13500, 28, 26\n",
    "음료, 1900, 50, \n",
    "음료, 900, 50, \n",
    "육류, 26900, 34, 17\n",
    "꽃, 20000, 30, 20\n",
    "꽃, 70000, 68, 50\n",
    "꽃, 150000, , \n",
    "꽃, 32900, 40, 30\n",
    "꽃, 29900, 40, 30\n",
    "기타, 900, 50, \n",
    "꽃, 25000, , \n",
    "반찬/밀키트, 3000, 39, 20\n",
    "꽃, 20000, 30, 15\n",
    "그릇, 50000, 31, 13\n",
    "음료, 2300, 50, \n",
    "케이크, 68000, 180, \n",
    "육류, 9700, 28, 13\n",
    "화장품, 25000, 14, 5\n",
    "반찬/밀키트, 4500, 28, 13\n",
    "반찬/밀키트, 3200, 26, \n",
    "반찬/밀키트, 5950, 32, \n",
    "육류, 3300, 33, 20\n",
    "꽃, 15000, 50, 30\n",
    "꽃, 60000, 27, 10\n",
    "음료, 2200, 45, 30\n",
    "반려동물용품, 4500, 26, 11\n",
    "꽃, 2900, 40, 30\n",
    "과자, 1000, 40, \n",
    "전자기기, 189000, 150, \n",
    "화장품, 16000, 14, 5\n",
    "건강기능식품, 29800, 30, \n",
    "기타, 1500, 40, 30\n",
    "육류, 59800, 34, 14\n",
    "과일, 2100, 50, \n",
    "육류, 27650, 34, 15\n",
    "기타, 490, 40, 30\n",
    "과자, 1700, 45, 30\n",
    "반찬/밀키트, 3900, 24, \n",
    "건강기능식품, 75000, 40, \n",
    "반찬/밀키트, 3900, 23, \n",
    "전자기기, 72000, 150, 15\n",
    "육류, 9200, 28, 13\n",
    "위스키, 43000, , 20\n",
    "꽃, 28000, 35, 25\n",
    "꽃, 36000, 39, 20\n",
    "반찬/밀키트, 11800, 22, 5\n",
    "건강기능식품, 12750, 30, \n",
    "화장품, 70000, 14, 5\n",
    "반려동물용품, 2400, 49, 30\n",
    "꽃, 100000, 24, 9\n",
    "장난감, 13500, 27, 16\n",
    "반려동물용품, 168000, 40, 20\n",
    "\"\"\""
   ]
  },
  {
   "cell_type": "code",
   "execution_count": 3,
   "metadata": {},
   "outputs": [
    {
     "data": {
      "text/plain": [
       "['육류, 28800, 35, 20',\n",
       " '육류, 19900, 29, 12',\n",
       " '꽃, 50000, 24, 9',\n",
       " '과일, 19500, 34, ',\n",
       " '케이크, 23000, 26, 14',\n",
       " '과자, 1700, 50, ',\n",
       " '꽃, 10000, 35, 25',\n",
       " '과자, 1700, 50, ',\n",
       " '꽃, 80000, 28, 10',\n",
       " '꽃, 85000, 33, ',\n",
       " '육류, 11000, , ',\n",
       " '전자기기, 168000, 180, ',\n",
       " '음료, 3050, 50, ',\n",
       " '꽃, 12000, 29, ',\n",
       " '전자기기, 359000, 150, 15',\n",
       " '그릇, 30000, 31, 13',\n",
       " '반찬/밀키트, 13900, 34, 17',\n",
       " '장난감, 13500, 28, 26',\n",
       " '음료, 1900, 50, ',\n",
       " '음료, 900, 50, ',\n",
       " '육류, 26900, 34, 17',\n",
       " '꽃, 20000, 30, 20',\n",
       " '꽃, 70000, 68, 50',\n",
       " '꽃, 150000, , ',\n",
       " '꽃, 32900, 40, 30',\n",
       " '꽃, 29900, 40, 30',\n",
       " '기타, 900, 50, ',\n",
       " '꽃, 25000, , ',\n",
       " '반찬/밀키트, 3000, 39, 20',\n",
       " '꽃, 20000, 30, 15',\n",
       " '그릇, 50000, 31, 13',\n",
       " '음료, 2300, 50, ',\n",
       " '케이크, 68000, 180, ',\n",
       " '육류, 9700, 28, 13',\n",
       " '화장품, 25000, 14, 5',\n",
       " '반찬/밀키트, 4500, 28, 13',\n",
       " '반찬/밀키트, 3200, 26, ',\n",
       " '반찬/밀키트, 5950, 32, ',\n",
       " '육류, 3300, 33, 20',\n",
       " '꽃, 15000, 50, 30',\n",
       " '꽃, 60000, 27, 10',\n",
       " '음료, 2200, 45, 30',\n",
       " '반려동물용품, 4500, 26, 11',\n",
       " '꽃, 2900, 40, 30',\n",
       " '과자, 1000, 40, ',\n",
       " '전자기기, 189000, 150, ',\n",
       " '화장품, 16000, 14, 5',\n",
       " '건강기능식품, 29800, 30, ',\n",
       " '기타, 1500, 40, 30',\n",
       " '육류, 59800, 34, 14',\n",
       " '과일, 2100, 50, ',\n",
       " '육류, 27650, 34, 15',\n",
       " '기타, 490, 40, 30',\n",
       " '과자, 1700, 45, 30',\n",
       " '반찬/밀키트, 3900, 24, ',\n",
       " '건강기능식품, 75000, 40, ',\n",
       " '반찬/밀키트, 3900, 23, ',\n",
       " '전자기기, 72000, 150, 15',\n",
       " '육류, 9200, 28, 13',\n",
       " '위스키, 43000, , 20',\n",
       " '꽃, 28000, 35, 25',\n",
       " '꽃, 36000, 39, 20',\n",
       " '반찬/밀키트, 11800, 22, 5',\n",
       " '건강기능식품, 12750, 30, ',\n",
       " '화장품, 70000, 14, 5',\n",
       " '반려동물용품, 2400, 49, 30',\n",
       " '꽃, 100000, 24, 9',\n",
       " '장난감, 13500, 27, 16',\n",
       " '반려동물용품, 168000, 40, 20']"
      ]
     },
     "execution_count": 3,
     "metadata": {},
     "output_type": "execute_result"
    }
   ],
   "source": [
    "# 2. 데이터를 데이터프레임으로 변환하기 위해, 엔터 값을 기준으로 나눈 리스트로 만들어줍니다.\n",
    "bms_data = bms_rawdata.strip().split('\\n')\n",
    "bms_data"
   ]
  },
  {
   "cell_type": "code",
   "execution_count": 4,
   "metadata": {},
   "outputs": [
    {
     "data": {
      "text/plain": [
       "[['육류', 28800, 35, 20],\n",
       " ['육류', 19900, 29, 12],\n",
       " ['꽃', 50000, 24, 9],\n",
       " ['과일', 19500, 34, nan],\n",
       " ['케이크', 23000, 26, 14],\n",
       " ['과자', 1700, 50, nan],\n",
       " ['꽃', 10000, 35, 25],\n",
       " ['과자', 1700, 50, nan],\n",
       " ['꽃', 80000, 28, 10],\n",
       " ['꽃', 85000, 33, nan],\n",
       " ['육류', 11000, nan, nan],\n",
       " ['전자기기', 168000, 180, nan],\n",
       " ['음료', 3050, 50, nan],\n",
       " ['꽃', 12000, 29, nan],\n",
       " ['전자기기', 359000, 150, 15],\n",
       " ['그릇', 30000, 31, 13],\n",
       " ['반찬/밀키트', 13900, 34, 17],\n",
       " ['장난감', 13500, 28, 26],\n",
       " ['음료', 1900, 50, nan],\n",
       " ['음료', 900, 50, nan],\n",
       " ['육류', 26900, 34, 17],\n",
       " ['꽃', 20000, 30, 20],\n",
       " ['꽃', 70000, 68, 50],\n",
       " ['꽃', 150000, nan, nan],\n",
       " ['꽃', 32900, 40, 30],\n",
       " ['꽃', 29900, 40, 30],\n",
       " ['기타', 900, 50, nan],\n",
       " ['꽃', 25000, nan, nan],\n",
       " ['반찬/밀키트', 3000, 39, 20],\n",
       " ['꽃', 20000, 30, 15],\n",
       " ['그릇', 50000, 31, 13],\n",
       " ['음료', 2300, 50, nan],\n",
       " ['케이크', 68000, 180, nan],\n",
       " ['육류', 9700, 28, 13],\n",
       " ['화장품', 25000, 14, 5],\n",
       " ['반찬/밀키트', 4500, 28, 13],\n",
       " ['반찬/밀키트', 3200, 26, nan],\n",
       " ['반찬/밀키트', 5950, 32, nan],\n",
       " ['육류', 3300, 33, 20],\n",
       " ['꽃', 15000, 50, 30],\n",
       " ['꽃', 60000, 27, 10],\n",
       " ['음료', 2200, 45, 30],\n",
       " ['반려동물용품', 4500, 26, 11],\n",
       " ['꽃', 2900, 40, 30],\n",
       " ['과자', 1000, 40, nan],\n",
       " ['전자기기', 189000, 150, nan],\n",
       " ['화장품', 16000, 14, 5],\n",
       " ['건강기능식품', 29800, 30, nan],\n",
       " ['기타', 1500, 40, 30],\n",
       " ['육류', 59800, 34, 14],\n",
       " ['과일', 2100, 50, nan],\n",
       " ['육류', 27650, 34, 15],\n",
       " ['기타', 490, 40, 30],\n",
       " ['과자', 1700, 45, 30],\n",
       " ['반찬/밀키트', 3900, 24, nan],\n",
       " ['건강기능식품', 75000, 40, nan],\n",
       " ['반찬/밀키트', 3900, 23, nan],\n",
       " ['전자기기', 72000, 150, 15],\n",
       " ['육류', 9200, 28, 13],\n",
       " ['위스키', 43000, nan, 20],\n",
       " ['꽃', 28000, 35, 25],\n",
       " ['꽃', 36000, 39, 20],\n",
       " ['반찬/밀키트', 11800, 22, 5],\n",
       " ['건강기능식품', 12750, 30, nan],\n",
       " ['화장품', 70000, 14, 5],\n",
       " ['반려동물용품', 2400, 49, 30],\n",
       " ['꽃', 100000, 24, 9],\n",
       " ['장난감', 13500, 27, 16],\n",
       " ['반려동물용품', 168000, 40, 20]]"
      ]
     },
     "execution_count": 4,
     "metadata": {},
     "output_type": "execute_result"
    }
   ],
   "source": [
    "# 3. 누락된 데이터가 존재하고, int값으로 정의해주어야 하는 데이터가 있으므로 아래 과정을 거쳐 리스트로 만들어줍니다.\n",
    "# x가 숫자로만 이루어져 있다면 int(x)로 변환합니다.\n",
    "# x가 숫자로 이루어져 있지 않다면 (x가 숫자가 아니라면) x를 그대로 유지합니다.\n",
    "# 만약 x가 빈 문자열이라면 (x가 비어있다면) np.nan을 반환합니다.\n",
    "\n",
    "bms_data_cleaned = [list(map(lambda x: int(x) if x.isdigit() \n",
    "                             else (x if x else np.nan), \n",
    "                             data.split(', '))) for data in bms_data]\n",
    "bms_data_cleaned"
   ]
  },
  {
   "cell_type": "code",
   "execution_count": 5,
   "metadata": {},
   "outputs": [
    {
     "data": {
      "text/html": [
       "<div>\n",
       "<style scoped>\n",
       "    .dataframe tbody tr th:only-of-type {\n",
       "        vertical-align: middle;\n",
       "    }\n",
       "\n",
       "    .dataframe tbody tr th {\n",
       "        vertical-align: top;\n",
       "    }\n",
       "\n",
       "    .dataframe thead th {\n",
       "        text-align: right;\n",
       "    }\n",
       "</style>\n",
       "<table border=\"1\" class=\"dataframe\">\n",
       "  <thead>\n",
       "    <tr style=\"text-align: right;\">\n",
       "      <th></th>\n",
       "      <th>카테고리</th>\n",
       "      <th>금액</th>\n",
       "      <th>배달시간(mid)</th>\n",
       "      <th>픽업시간(mid)</th>\n",
       "    </tr>\n",
       "  </thead>\n",
       "  <tbody>\n",
       "    <tr>\n",
       "      <th>23</th>\n",
       "      <td>꽃</td>\n",
       "      <td>150000</td>\n",
       "      <td>NaN</td>\n",
       "      <td>NaN</td>\n",
       "    </tr>\n",
       "    <tr>\n",
       "      <th>1</th>\n",
       "      <td>육류</td>\n",
       "      <td>19900</td>\n",
       "      <td>29.0</td>\n",
       "      <td>12.0</td>\n",
       "    </tr>\n",
       "    <tr>\n",
       "      <th>13</th>\n",
       "      <td>꽃</td>\n",
       "      <td>12000</td>\n",
       "      <td>29.0</td>\n",
       "      <td>NaN</td>\n",
       "    </tr>\n",
       "    <tr>\n",
       "      <th>21</th>\n",
       "      <td>꽃</td>\n",
       "      <td>20000</td>\n",
       "      <td>30.0</td>\n",
       "      <td>20.0</td>\n",
       "    </tr>\n",
       "    <tr>\n",
       "      <th>50</th>\n",
       "      <td>과일</td>\n",
       "      <td>2100</td>\n",
       "      <td>50.0</td>\n",
       "      <td>NaN</td>\n",
       "    </tr>\n",
       "    <tr>\n",
       "      <th>49</th>\n",
       "      <td>육류</td>\n",
       "      <td>59800</td>\n",
       "      <td>34.0</td>\n",
       "      <td>14.0</td>\n",
       "    </tr>\n",
       "    <tr>\n",
       "      <th>47</th>\n",
       "      <td>건강기능식품</td>\n",
       "      <td>29800</td>\n",
       "      <td>30.0</td>\n",
       "      <td>NaN</td>\n",
       "    </tr>\n",
       "    <tr>\n",
       "      <th>19</th>\n",
       "      <td>음료</td>\n",
       "      <td>900</td>\n",
       "      <td>50.0</td>\n",
       "      <td>NaN</td>\n",
       "    </tr>\n",
       "    <tr>\n",
       "      <th>5</th>\n",
       "      <td>과자</td>\n",
       "      <td>1700</td>\n",
       "      <td>50.0</td>\n",
       "      <td>NaN</td>\n",
       "    </tr>\n",
       "    <tr>\n",
       "      <th>54</th>\n",
       "      <td>반찬/밀키트</td>\n",
       "      <td>3900</td>\n",
       "      <td>24.0</td>\n",
       "      <td>NaN</td>\n",
       "    </tr>\n",
       "  </tbody>\n",
       "</table>\n",
       "</div>"
      ],
      "text/plain": [
       "      카테고리      금액  배달시간(mid)  픽업시간(mid)\n",
       "23       꽃  150000        NaN        NaN\n",
       "1       육류   19900       29.0       12.0\n",
       "13       꽃   12000       29.0        NaN\n",
       "21       꽃   20000       30.0       20.0\n",
       "50      과일    2100       50.0        NaN\n",
       "49      육류   59800       34.0       14.0\n",
       "47  건강기능식품   29800       30.0        NaN\n",
       "19      음료     900       50.0        NaN\n",
       "5       과자    1700       50.0        NaN\n",
       "54  반찬/밀키트    3900       24.0        NaN"
      ]
     },
     "execution_count": 5,
     "metadata": {},
     "output_type": "execute_result"
    }
   ],
   "source": [
    "# 4. 만들어 둔 리스트로 데이터프레임을 정의하였습니다. nan값이 있는 데이터의 경우 int로 정의할 수 없으므로, float로 정의해주었습니다.\n",
    "# 10개의 샘플 데이터를 뽑아봅니다.\n",
    "bms_df = pd.DataFrame(bms_data_cleaned, \n",
    "                      columns=[\"카테고리\", \"금액\", \"배달시간(mid)\", \"픽업시간(mid)\"])\n",
    "bms_df.sample(10)"
   ]
  },
  {
   "cell_type": "code",
   "execution_count": 6,
   "metadata": {},
   "outputs": [
    {
     "data": {
      "text/plain": [
       "array(['육류', '꽃', '과일', '케이크', '과자', '전자기기', '음료', '그릇', '반찬/밀키트', '장난감',\n",
       "       '기타', '화장품', '반려동물용품', '건강기능식품', '위스키'], dtype=object)"
      ]
     },
     "execution_count": 6,
     "metadata": {},
     "output_type": "execute_result"
    }
   ],
   "source": [
    "bms_df.카테고리.unique() \n"
   ]
  },
  {
   "cell_type": "code",
   "execution_count": 7,
   "metadata": {},
   "outputs": [
    {
     "name": "stdout",
     "output_type": "stream",
     "text": [
      "<class 'pandas.core.frame.DataFrame'>\n",
      "RangeIndex: 69 entries, 0 to 68\n",
      "Data columns (total 4 columns):\n",
      " #   Column     Non-Null Count  Dtype  \n",
      "---  ------     --------------  -----  \n",
      " 0   카테고리       69 non-null     object \n",
      " 1   금액         69 non-null     int64  \n",
      " 2   배달시간(mid)  65 non-null     float64\n",
      " 3   픽업시간(mid)  44 non-null     float64\n",
      "dtypes: float64(2), int64(1), object(1)\n",
      "memory usage: 2.3+ KB\n"
     ]
    }
   ],
   "source": [
    "# 5. 기본 정보를 출력하여 null 값 갯수와, 데이터 타입은 어떤지 확인해봅니다. \n",
    "# nan값이 있는 데이터의 경우, 데이터프레임으로 변환하는 과정에서 float로 정의되었습니다.\n",
    "bms_df.info()"
   ]
  },
  {
   "cell_type": "markdown",
   "metadata": {},
   "source": [
    "# Insight 1.\n",
    "- \"지금 인기있는 상품\"의 픽업시간은 약 37%의 데이터가 유실되어있다는 사실을 기반으로,\n",
    "- `픽업시간 혹은 픽업 여부는 배민스토어의 구매에 중요한 요인은 아닐 것`이라는 가설을 세워볼 수 있습니다."
   ]
  },
  {
   "cell_type": "markdown",
   "metadata": {},
   "source": [
    "===== 여기서부터 시각화로 넘어가는 부분이고 아직 작업 안 함, 내가 그리고 싶은 그래프=====  \n",
    "6. 카테고리별 평균 금액에 대한 세로 막대 그래프  -> 전자기기는 평균 금액이 높음, 간식은 평균 금액이 낮음 이런 식으로 적어보고 원인 찾아보기.  \n",
    "7. 카테고리별 count 그래프 : 누군가에게 줄 선물을 가장 많이 구매한다는 내용. 식재료도 많이 구매함.  \n",
    "8. 카테고리별 배달시간과 픽업시간 그래프 -> 배달시간,픽업시간이 큰 영향을 안 미친다는 걸 보여주고 싶은데 괜찮을지?  \n",
    "9. 그 외 재현의 아이디어  \n",
    "10. 6번 7번을 하나에 묶어봐도 괜찮을 것 같음!!  "
   ]
  },
  {
   "cell_type": "code",
   "execution_count": 8,
   "metadata": {},
   "outputs": [],
   "source": [
    "# 한국어 표시 및 그래프 옵션 설정\n",
    "sns.set_context(\"notebook\", rc={\"lines.linewidth\": 1.5})\n",
    "sns.set(color_codes=True)\n",
    "sns.set_palette(\"pastel\")\n",
    "\n",
    "rc('font', family='Applegothic')\n",
    "plt.rcParams['font.family']='Applegothic'"
   ]
  },
  {
   "cell_type": "code",
   "execution_count": 9,
   "metadata": {},
   "outputs": [
    {
     "name": "stderr",
     "output_type": "stream",
     "text": [
      "No artists with labels found to put in legend.  Note that artists whose label start with an underscore are ignored when legend() is called with no argument.\n"
     ]
    },
    {
     "data": {
      "image/png": "[encoded data removed]",
      "text/plain": [
       "<Figure size 2000x300 with 1 Axes>"
      ]
     },
     "metadata": {},
     "output_type": "display_data"
    }
   ],
   "source": [
    "# 6. 카테고리별 평균 금액에 대한 boxplot으로 변경\n",
    "# 6-1. 카테고리별 평균 금액 계산\n",
    "category_avg_price = bms_df.groupby(\"카테고리\")[\"금액\"].mean().sort_values(ascending=False)\n",
    "\n",
    "plt.figure(figsize=(20, 3))\n",
    "sns.boxplot(x = \"카테고리\", y = \"금액\", data = bms_df, order = category_avg_price.index)\n",
    "plt.xlabel(\"카테고리별 금액(Mean)\")\n",
    "plt.legend()\n",
    "plt.show()"
   ]
  },
  {
   "cell_type": "code",
   "execution_count": 14,
   "metadata": {},
   "outputs": [
    {
     "name": "stderr",
     "output_type": "stream",
     "text": [
      "No artists with labels found to put in legend.  Note that artists whose label start with an underscore are ignored when legend() is called with no argument.\n"
     ]
    },
    {
     "data": {
      "image/png": "[encoded data removed]",
      "text/plain": [
       "<Figure size 1500x600 with 1 Axes>"
      ]
     },
     "metadata": {},
     "output_type": "display_data"
    }
   ],
   "source": [
    "# 7. 카테고리별 unique 값에 대한 count값 \n",
    "cat_count = bms_df['카테고리'].value_counts().sort_values(ascending=False)\n",
    "plt.figure(figsize=(15, 6))\n",
    "sns.countplot(y=\"카테고리\", data=bms_df, order = cat_count.index)\n",
    "plt.xticks(range(0, max(cat_count) + 1, 3))  # 정수값으로 3 간격으로 설정\n",
    "\n",
    "# 막대 오른쪽 끝에 값을 표시하는 로직 추가\n",
    "for i, v in enumerate(cat_count.values):\n",
    "    plt.text(v+0.5, i, str(v), color='black', va='center')\n",
    "\n",
    "plt.legend()\n",
    "plt.show()"
   ]
  },
  {
   "cell_type": "code",
   "execution_count": null,
   "metadata": {},
   "outputs": [],
   "source": [
    "# 선물은 회사에 받는사람의 주소 데이터가 있을 것임. 그 여부를 확인하면 선물인지 아닌지 나오니까!\n",
    "# 거기서 제일 많이 나온 친구 = 수요가 가장 높다 = 8월 25일 금요일 오후 4시, 강남역에서 가장 인기가 많은 상품 카테고리는 \" 꽃\"\n",
    "# 그 외에도 많이 나온 상품들을 보면, 꽃처럼 누군가에게 선물을 하려는 상품들이 많아보인다. : 저 카테고리 기반으로 나온 결과를 따라서 이게 선물용인지 아닌지 대략적으로 판단 가능\n",
    "# 이게 시간적인 특성(오후4시)인지, 요일적인 특성(주말)인지, 시기적(8월, 여름이라서인지), 월말이라서인지, 위치(강남역)때문인지는 추가적인 데이터를 더 분석해보아야 한다.\n",
    "# 입사해서 이런거 하고싶어요~ 하고 마무리하기."
   ]
  }
 ],
 "metadata": {
  "kernelspec": {
   "display_name": "Python 3",
   "language": "python",
   "name": "python3"
  },
  "language_info": {
   "codemirror_mode": {
    "name": "ipython",
    "version": 3
   },
   "file_extension": ".py",
   "mimetype": "text/x-python",
   "name": "python",
   "nbconvert_exporter": "python",
   "pygments_lexer": "ipython3",
   "version": "3.10.12"
  },
  "orig_nbformat": 4
 },
 "nbformat": 4,
 "nbformat_minor": 2
}
